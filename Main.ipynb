{
 "cells": [
  {
   "cell_type": "markdown",
   "id": "e92716f6",
   "metadata": {},
   "source": [
    "# Get dataset"
   ]
  },
  {
   "cell_type": "code",
   "execution_count": null,
   "id": "862db770",
   "metadata": {},
   "outputs": [],
   "source": []
  },
  {
   "cell_type": "code",
   "execution_count": 342,
   "id": "f1fbdb1f",
   "metadata": {},
   "outputs": [],
   "source": [
    "from pymatgen.ext.matproj import MPRester\n",
    "from matminer.featurizers.conversions import StrToComposition\n",
    "import scipy\n",
    "from matminer.featurizers.composition import ElementProperty, ElementFraction, Meredig, Stoichiometry\n",
    "import sklearn\n",
    "from sklearn.decomposition import PCA\n",
    "from sklearn.preprocessing import StandardScaler, normalize\n",
    "from sklearn.ensemble import RandomForestRegressor\n",
    "from sklearn.model_selection import train_test_split, cross_validate, GridSearchCV\n",
    "from sklearn.metrics import mean_squared_error as mse\n",
    "\n",
    "#from materials_project_api_key import api_key as api_key\n",
    "MP_API_KEY=\"zJTA8MUZaSc3lxtI\"\n",
    "\n",
    "import os\n",
    "import numpy as np\n",
    "import pandas as pd\n",
    "import matplotlib.pyplot as plt\n",
    "from tqdm import tqdm\n",
    "import scipy\n",
    "\n",
    "pd.set_option('display.max_columns', None)\n",
    "\n",
    "import sys\n",
    "from atomic_number import atomic_number as an"
   ]
  },
  {
   "cell_type": "code",
   "execution_count": 343,
   "id": "a72be7a0",
   "metadata": {},
   "outputs": [
    {
     "name": "stderr",
     "output_type": "stream",
     "text": [
      "C:\\Users\\biccy\\anaconda3\\envs\\digichem_env\\lib\\site-packages\\pymatgen\\ext\\matproj.py:182: UserWarning: You are using the legacy MPRester. This version of the MPRester will no longer be updated. To access the latest data with the new MPRester, obtain a new API key from https://materialsproject.org/api and consult the docs at https://docs.materialsproject.org/ for more information.\n",
      "  warnings.warn(\n",
      "100%|██████████| 2687/2687 [00:28<00:00, 95.91it/s] \n"
     ]
    }
   ],
   "source": [
    "properties = ['material_id',\n",
    " 'formula','spacegroup.symbol',\n",
    " 'structure',\n",
    "'decomposes_to',\n",
    "'elasticity',\n",
    " 'elements',\n",
    " 'formula_anonymous',\n",
    " 'chemsys',\n",
    "'task_ids',\n",
    " 'last_updated',\n",
    " 'created_at',\n",
    " \"band_gap\",\n",
    "'energy_per_atom',\n",
    "'formation_energy_per_atom',\n",
    "'e_above_hull',\n",
    " 'nsites',\n",
    " 'nelements',\n",
    " 'volume',\n",
    " 'density']\n",
    "\n",
    "elements = [\"Zn\"]\n",
    "data = []\n",
    "for e in elements:\n",
    "    criteria = {\"elements\": {\"$all\": [e]},'band_gap': {'$gt': 0.00}}\n",
    "    with MPRester(MP_API_KEY) as m:  \n",
    "        temp = m.query(criteria=criteria, properties=properties)\n",
    "        data.append(temp)\n",
    "data = [item for sublist in data for item in sublist]\n",
    "data = pd.DataFrame(data)"
   ]
  },
  {
   "cell_type": "code",
   "execution_count": 344,
   "id": "99940c4e",
   "metadata": {},
   "outputs": [
    {
     "name": "stderr",
     "output_type": "stream",
     "text": [
      "100%|██████████| 2687/2687 [00:00<00:00, 669762.57it/s]\n"
     ]
    },
    {
     "name": "stdout",
     "output_type": "stream",
     "text": [
      "Allowed Elements: ['As', 'Ba', 'C', 'Cu', 'F', 'Fe', 'H', 'K', 'Li', 'Mn', 'N', 'Na', 'O', 'P', 'S', 'Se', 'Si', 'Sn', 'V', 'Zn']\n",
      "Number of Elements: 20\n"
     ]
    }
   ],
   "source": [
    "# Get atom counts\n",
    "crystal_atom_counts = {}\n",
    "for row in tqdm(data.formula):\n",
    "    for key in row.keys():\n",
    "        crystal_atom_counts[key] = crystal_atom_counts[key] + 1 if key in crystal_atom_counts.keys() else 1\n",
    "crystal_atom_counts = pd.Series({ key:crystal_atom_counts[key] for key in sorted(crystal_atom_counts.keys()) })\n",
    "\n",
    "# Only choose structures with elements that are well represented in the dataset\n",
    "n_crystals_cutoff = (len(data)*0.04)\n",
    "elements = [key for key in crystal_atom_counts.keys() if crystal_atom_counts[key] >= n_crystals_cutoff]\n",
    "print(f\"Allowed Elements: {elements}\")\n",
    "print(f\"Number of Elements: {len(elements)}\")\n",
    "\n",
    "# Lets now filter the structures\n",
    "mask = [row[1].name for row in data.iterrows() if np.all(np.isin(list(row[1].formula.keys()), elements))]\n",
    "filtered = data.loc[mask]"
   ]
  },
  {
   "cell_type": "markdown",
   "id": "5ce1b0f5",
   "metadata": {},
   "source": [
    "# Featurize"
   ]
  },
  {
   "cell_type": "code",
   "execution_count": 345,
   "id": "6e3bb82d",
   "metadata": {},
   "outputs": [],
   "source": [
    "import numpy as np\n",
    "import sys"
   ]
  },
  {
   "cell_type": "code",
   "execution_count": 346,
   "id": "59b825a7",
   "metadata": {},
   "outputs": [],
   "source": [
    "from get_features import get_custom_features\n",
    "X_desc_custom = get_custom_features(filtered.structure.values,filtered)\n",
    "columns=np.array(X_desc_custom.columns)\n",
    "X_desc_custom=np.array(X_desc_custom)\n",
    "X_desc_custom=pd.DataFrame(X_desc_custom)\n",
    "X_desc_custom.columns = columns"
   ]
  },
  {
   "cell_type": "code",
   "execution_count": 347,
   "id": "148859d8",
   "metadata": {
    "scrolled": false
   },
   "outputs": [
    {
     "name": "stderr",
     "output_type": "stream",
     "text": [
      "C:\\Users\\biccy\\AppData\\Local\\Temp\\ipykernel_4760\\161121850.py:3: FutureWarning: In a future version of pandas all arguments of DataFrame.any and Series.any will be keyword-only.\n",
      "  X_desc_form = X_desc_form.loc[(X_desc_form!=0).any(1), (X_desc_form!=0).any(0)]\n"
     ]
    }
   ],
   "source": [
    "from get_features import get_features_formula\n",
    "X_desc_form= get_features_formula(filtered.formula,filtered['spacegroup.symbol'].values)\n",
    "X_desc_form = X_desc_form.loc[(X_desc_form!=0).any(1), (X_desc_form!=0).any(0)]\n",
    "X_desc_form_cus=pd.concat((X_desc_custom,X_desc_form),axis=1)"
   ]
  },
  {
   "cell_type": "code",
   "execution_count": 348,
   "id": "39e5b331",
   "metadata": {},
   "outputs": [
    {
     "name": "stderr",
     "output_type": "stream",
     "text": [
      "C:\\Users\\biccy\\AppData\\Local\\Temp\\ipykernel_4760\\247064423.py:3: FutureWarning: In a future version of pandas all arguments of DataFrame.any and Series.any will be keyword-only.\n",
      "  X_desc_struc = X_desc_struc.loc[(X_desc_struc!=0).any(1), (X_desc_struc!=0).any(0)]\n"
     ]
    }
   ],
   "source": [
    "from get_features import get_features_structure\n",
    "X_desc_struc = get_features_structure(filtered.structure.values)\n",
    "X_desc_struc = X_desc_struc.loc[(X_desc_struc!=0).any(1), (X_desc_struc!=0).any(0)]\n",
    "X_desc_struc_cus=pd.concat([X_desc_custom,X_desc_struc],axis=1)"
   ]
  },
  {
   "cell_type": "code",
   "execution_count": 349,
   "id": "c9ffc43a",
   "metadata": {},
   "outputs": [
    {
     "data": {
      "application/vnd.jupyter.widget-view+json": {
       "model_id": "39c764ceda6f48dba4189cde23674313",
       "version_major": 2,
       "version_minor": 0
      },
      "text/plain": [
       "StrToComposition:   0%|          | 0/1014 [00:00<?, ?it/s]"
      ]
     },
     "metadata": {},
     "output_type": "display_data"
    }
   ],
   "source": [
    "semiconductors = StrToComposition().featurize_dataframe(X_desc_custom, \"formula\")"
   ]
  },
  {
   "cell_type": "code",
   "execution_count": 350,
   "id": "1d20f1cb",
   "metadata": {
    "scrolled": true
   },
   "outputs": [
    {
     "data": {
      "application/vnd.jupyter.widget-view+json": {
       "model_id": "ca5bd694319c487097078a146f42fb91",
       "version_major": 2,
       "version_minor": 0
      },
      "text/plain": [
       "ElementProperty:   0%|          | 0/1014 [00:00<?, ?it/s]"
      ]
     },
     "metadata": {},
     "output_type": "display_data"
    },
    {
     "ename": "KeyboardInterrupt",
     "evalue": "",
     "output_type": "error",
     "traceback": [
      "\u001b[1;31m---------------------------------------------------------------------------\u001b[0m",
      "\u001b[1;31mKeyboardInterrupt\u001b[0m                         Traceback (most recent call last)",
      "Cell \u001b[1;32mIn[350], line 2\u001b[0m\n\u001b[0;32m      1\u001b[0m \u001b[38;5;28;01mfrom\u001b[39;00m \u001b[38;5;21;01mget_features1\u001b[39;00m \u001b[38;5;28;01mimport\u001b[39;00m get_features_mag\n\u001b[1;32m----> 2\u001b[0m X_desc_mag \u001b[38;5;241m=\u001b[39m \u001b[43mget_features_mag\u001b[49m\u001b[43m(\u001b[49m\u001b[43msemiconductors\u001b[49m\u001b[43m,\u001b[49m\u001b[38;5;124;43m'\u001b[39;49m\u001b[38;5;124;43mcomposition\u001b[39;49m\u001b[38;5;124;43m'\u001b[39;49m\u001b[43m)\u001b[49m\n\u001b[0;32m      3\u001b[0m X_desc_mag\n",
      "File \u001b[1;32m~\\Desktop\\New Imperial files\\Artificial inteligence\\Code\\get_features1.py:300\u001b[0m, in \u001b[0;36mget_features_mag\u001b[1;34m(structures, col_id)\u001b[0m\n\u001b[0;32m    298\u001b[0m \u001b[38;5;28;01mfrom\u001b[39;00m \u001b[38;5;21;01mmatminer\u001b[39;00m\u001b[38;5;21;01m.\u001b[39;00m\u001b[38;5;21;01mfeaturizers\u001b[39;00m\u001b[38;5;21;01m.\u001b[39;00m\u001b[38;5;21;01mcomposition\u001b[39;00m \u001b[38;5;28;01mimport\u001b[39;00m ElementProperty\n\u001b[0;32m    299\u001b[0m ep_feat_mag \u001b[38;5;241m=\u001b[39m ElementProperty\u001b[38;5;241m.\u001b[39mfrom_preset(preset_name\u001b[38;5;241m=\u001b[39m\u001b[38;5;124m\"\u001b[39m\u001b[38;5;124mmagpie\u001b[39m\u001b[38;5;124m\"\u001b[39m)\n\u001b[1;32m--> 300\u001b[0m X_desc_mag \u001b[38;5;241m=\u001b[39m \u001b[43mep_feat_mag\u001b[49m\u001b[38;5;241;43m.\u001b[39;49m\u001b[43mfeaturize_dataframe\u001b[49m\u001b[43m(\u001b[49m\u001b[43mstructures\u001b[49m\u001b[43m,\u001b[49m\u001b[43m \u001b[49m\u001b[43mcol_id\u001b[49m\u001b[38;5;241;43m=\u001b[39;49m\u001b[43mcol_id\u001b[49m\u001b[43m)\u001b[49m\n\u001b[0;32m    301\u001b[0m X_desc_mag \u001b[38;5;241m=\u001b[39m X_desc_mag\u001b[38;5;241m.\u001b[39mloc[(X_desc_mag\u001b[38;5;241m!=\u001b[39m\u001b[38;5;241m0\u001b[39m)\u001b[38;5;241m.\u001b[39many(\u001b[38;5;241m1\u001b[39m), (X_desc_mag\u001b[38;5;241m!=\u001b[39m\u001b[38;5;241m0\u001b[39m)\u001b[38;5;241m.\u001b[39many(\u001b[38;5;241m0\u001b[39m)]\n\u001b[0;32m    302\u001b[0m X_desc_mag \u001b[38;5;241m=\u001b[39m X_desc_mag\u001b[38;5;241m.\u001b[39mdropna(how\u001b[38;5;241m=\u001b[39m\u001b[38;5;124m'\u001b[39m\u001b[38;5;124many\u001b[39m\u001b[38;5;124m'\u001b[39m,axis\u001b[38;5;241m=\u001b[39m\u001b[38;5;241m1\u001b[39m)\n",
      "File \u001b[1;32m~\\anaconda3\\envs\\digichem_env\\lib\\site-packages\\matminer\\featurizers\\base.py:338\u001b[0m, in \u001b[0;36mBaseFeaturizer.featurize_dataframe\u001b[1;34m(self, df, col_id, ignore_errors, return_errors, inplace, multiindex, pbar)\u001b[0m\n\u001b[0;32m    335\u001b[0m             \u001b[38;5;28;01mraise\u001b[39;00m \u001b[38;5;167;01mValueError\u001b[39;00m(\u001b[38;5;124mf\u001b[39m\u001b[38;5;124m'\u001b[39m\u001b[38;5;124m\"\u001b[39m\u001b[38;5;132;01m{\u001b[39;00mcol\u001b[38;5;132;01m}\u001b[39;00m\u001b[38;5;124m\"\u001b[39m\u001b[38;5;124m exists in input dataframe\u001b[39m\u001b[38;5;124m'\u001b[39m)\n\u001b[0;32m    337\u001b[0m \u001b[38;5;66;03m# Compute the features\u001b[39;00m\n\u001b[1;32m--> 338\u001b[0m features \u001b[38;5;241m=\u001b[39m \u001b[38;5;28;43mself\u001b[39;49m\u001b[38;5;241;43m.\u001b[39;49m\u001b[43mfeaturize_many\u001b[49m\u001b[43m(\u001b[49m\n\u001b[0;32m    339\u001b[0m \u001b[43m    \u001b[49m\u001b[43mdf\u001b[49m\u001b[43m[\u001b[49m\u001b[43mcol_id\u001b[49m\u001b[43m]\u001b[49m\u001b[38;5;241;43m.\u001b[39;49m\u001b[43mvalues\u001b[49m\u001b[43m,\u001b[49m\n\u001b[0;32m    340\u001b[0m \u001b[43m    \u001b[49m\u001b[43mignore_errors\u001b[49m\u001b[38;5;241;43m=\u001b[39;49m\u001b[43mignore_errors\u001b[49m\u001b[43m,\u001b[49m\n\u001b[0;32m    341\u001b[0m \u001b[43m    \u001b[49m\u001b[43mreturn_errors\u001b[49m\u001b[38;5;241;43m=\u001b[39;49m\u001b[43mreturn_errors\u001b[49m\u001b[43m,\u001b[49m\n\u001b[0;32m    342\u001b[0m \u001b[43m    \u001b[49m\u001b[43mpbar\u001b[49m\u001b[38;5;241;43m=\u001b[39;49m\u001b[43mpbar\u001b[49m\u001b[43m,\u001b[49m\n\u001b[0;32m    343\u001b[0m \u001b[43m\u001b[49m\u001b[43m)\u001b[49m\n\u001b[0;32m    345\u001b[0m \u001b[38;5;66;03m# Make sure the dataframe can handle multiindices\u001b[39;00m\n\u001b[0;32m    346\u001b[0m \u001b[38;5;28;01mif\u001b[39;00m multiindex:\n",
      "File \u001b[1;32m~\\anaconda3\\envs\\digichem_env\\lib\\site-packages\\matminer\\featurizers\\base.py:470\u001b[0m, in \u001b[0;36mBaseFeaturizer.featurize_many\u001b[1;34m(self, entries, ignore_errors, return_errors, pbar)\u001b[0m\n\u001b[0;32m    464\u001b[0m \u001b[38;5;28;01mwith\u001b[39;00m Pool(\u001b[38;5;28mself\u001b[39m\u001b[38;5;241m.\u001b[39mn_jobs, maxtasksperchild\u001b[38;5;241m=\u001b[39m\u001b[38;5;241m1\u001b[39m) \u001b[38;5;28;01mas\u001b[39;00m p:\n\u001b[0;32m    465\u001b[0m     func \u001b[38;5;241m=\u001b[39m partial(\n\u001b[0;32m    466\u001b[0m         \u001b[38;5;28mself\u001b[39m\u001b[38;5;241m.\u001b[39mfeaturize_wrapper,\n\u001b[0;32m    467\u001b[0m         return_errors\u001b[38;5;241m=\u001b[39mreturn_errors,\n\u001b[0;32m    468\u001b[0m         ignore_errors\u001b[38;5;241m=\u001b[39mignore_errors,\n\u001b[0;32m    469\u001b[0m     )\n\u001b[1;32m--> 470\u001b[0m     res \u001b[38;5;241m=\u001b[39m \u001b[43mp\u001b[49m\u001b[38;5;241;43m.\u001b[39;49m\u001b[43mmap\u001b[49m\u001b[43m(\u001b[49m\u001b[43mfunc\u001b[49m\u001b[43m,\u001b[49m\u001b[43m \u001b[49m\u001b[43mentries\u001b[49m\u001b[43m,\u001b[49m\u001b[43m \u001b[49m\u001b[43mchunksize\u001b[49m\u001b[38;5;241;43m=\u001b[39;49m\u001b[38;5;28;43mself\u001b[39;49m\u001b[38;5;241;43m.\u001b[39;49m\u001b[43mchunksize\u001b[49m\u001b[43m)\u001b[49m\n\u001b[0;32m    471\u001b[0m     \u001b[38;5;28;01mreturn\u001b[39;00m res\n",
      "File \u001b[1;32m~\\anaconda3\\envs\\digichem_env\\lib\\multiprocessing\\pool.py:367\u001b[0m, in \u001b[0;36mPool.map\u001b[1;34m(self, func, iterable, chunksize)\u001b[0m\n\u001b[0;32m    362\u001b[0m \u001b[38;5;28;01mdef\u001b[39;00m \u001b[38;5;21mmap\u001b[39m(\u001b[38;5;28mself\u001b[39m, func, iterable, chunksize\u001b[38;5;241m=\u001b[39m\u001b[38;5;28;01mNone\u001b[39;00m):\n\u001b[0;32m    363\u001b[0m \u001b[38;5;250m    \u001b[39m\u001b[38;5;124;03m'''\u001b[39;00m\n\u001b[0;32m    364\u001b[0m \u001b[38;5;124;03m    Apply `func` to each element in `iterable`, collecting the results\u001b[39;00m\n\u001b[0;32m    365\u001b[0m \u001b[38;5;124;03m    in a list that is returned.\u001b[39;00m\n\u001b[0;32m    366\u001b[0m \u001b[38;5;124;03m    '''\u001b[39;00m\n\u001b[1;32m--> 367\u001b[0m     \u001b[38;5;28;01mreturn\u001b[39;00m \u001b[38;5;28;43mself\u001b[39;49m\u001b[38;5;241;43m.\u001b[39;49m\u001b[43m_map_async\u001b[49m\u001b[43m(\u001b[49m\u001b[43mfunc\u001b[49m\u001b[43m,\u001b[49m\u001b[43m \u001b[49m\u001b[43miterable\u001b[49m\u001b[43m,\u001b[49m\u001b[43m \u001b[49m\u001b[43mmapstar\u001b[49m\u001b[43m,\u001b[49m\u001b[43m \u001b[49m\u001b[43mchunksize\u001b[49m\u001b[43m)\u001b[49m\u001b[38;5;241;43m.\u001b[39;49m\u001b[43mget\u001b[49m\u001b[43m(\u001b[49m\u001b[43m)\u001b[49m\n",
      "File \u001b[1;32m~\\anaconda3\\envs\\digichem_env\\lib\\multiprocessing\\pool.py:768\u001b[0m, in \u001b[0;36mApplyResult.get\u001b[1;34m(self, timeout)\u001b[0m\n\u001b[0;32m    767\u001b[0m \u001b[38;5;28;01mdef\u001b[39;00m \u001b[38;5;21mget\u001b[39m(\u001b[38;5;28mself\u001b[39m, timeout\u001b[38;5;241m=\u001b[39m\u001b[38;5;28;01mNone\u001b[39;00m):\n\u001b[1;32m--> 768\u001b[0m     \u001b[38;5;28;43mself\u001b[39;49m\u001b[38;5;241;43m.\u001b[39;49m\u001b[43mwait\u001b[49m\u001b[43m(\u001b[49m\u001b[43mtimeout\u001b[49m\u001b[43m)\u001b[49m\n\u001b[0;32m    769\u001b[0m     \u001b[38;5;28;01mif\u001b[39;00m \u001b[38;5;129;01mnot\u001b[39;00m \u001b[38;5;28mself\u001b[39m\u001b[38;5;241m.\u001b[39mready():\n\u001b[0;32m    770\u001b[0m         \u001b[38;5;28;01mraise\u001b[39;00m \u001b[38;5;167;01mTimeoutError\u001b[39;00m\n",
      "File \u001b[1;32m~\\anaconda3\\envs\\digichem_env\\lib\\multiprocessing\\pool.py:765\u001b[0m, in \u001b[0;36mApplyResult.wait\u001b[1;34m(self, timeout)\u001b[0m\n\u001b[0;32m    764\u001b[0m \u001b[38;5;28;01mdef\u001b[39;00m \u001b[38;5;21mwait\u001b[39m(\u001b[38;5;28mself\u001b[39m, timeout\u001b[38;5;241m=\u001b[39m\u001b[38;5;28;01mNone\u001b[39;00m):\n\u001b[1;32m--> 765\u001b[0m     \u001b[38;5;28;43mself\u001b[39;49m\u001b[38;5;241;43m.\u001b[39;49m\u001b[43m_event\u001b[49m\u001b[38;5;241;43m.\u001b[39;49m\u001b[43mwait\u001b[49m\u001b[43m(\u001b[49m\u001b[43mtimeout\u001b[49m\u001b[43m)\u001b[49m\n",
      "File \u001b[1;32m~\\anaconda3\\envs\\digichem_env\\lib\\threading.py:607\u001b[0m, in \u001b[0;36mEvent.wait\u001b[1;34m(self, timeout)\u001b[0m\n\u001b[0;32m    605\u001b[0m signaled \u001b[38;5;241m=\u001b[39m \u001b[38;5;28mself\u001b[39m\u001b[38;5;241m.\u001b[39m_flag\n\u001b[0;32m    606\u001b[0m \u001b[38;5;28;01mif\u001b[39;00m \u001b[38;5;129;01mnot\u001b[39;00m signaled:\n\u001b[1;32m--> 607\u001b[0m     signaled \u001b[38;5;241m=\u001b[39m \u001b[38;5;28;43mself\u001b[39;49m\u001b[38;5;241;43m.\u001b[39;49m\u001b[43m_cond\u001b[49m\u001b[38;5;241;43m.\u001b[39;49m\u001b[43mwait\u001b[49m\u001b[43m(\u001b[49m\u001b[43mtimeout\u001b[49m\u001b[43m)\u001b[49m\n\u001b[0;32m    608\u001b[0m \u001b[38;5;28;01mreturn\u001b[39;00m signaled\n",
      "File \u001b[1;32m~\\anaconda3\\envs\\digichem_env\\lib\\threading.py:320\u001b[0m, in \u001b[0;36mCondition.wait\u001b[1;34m(self, timeout)\u001b[0m\n\u001b[0;32m    318\u001b[0m \u001b[38;5;28;01mtry\u001b[39;00m:    \u001b[38;5;66;03m# restore state no matter what (e.g., KeyboardInterrupt)\u001b[39;00m\n\u001b[0;32m    319\u001b[0m     \u001b[38;5;28;01mif\u001b[39;00m timeout \u001b[38;5;129;01mis\u001b[39;00m \u001b[38;5;28;01mNone\u001b[39;00m:\n\u001b[1;32m--> 320\u001b[0m         \u001b[43mwaiter\u001b[49m\u001b[38;5;241;43m.\u001b[39;49m\u001b[43macquire\u001b[49m\u001b[43m(\u001b[49m\u001b[43m)\u001b[49m\n\u001b[0;32m    321\u001b[0m         gotit \u001b[38;5;241m=\u001b[39m \u001b[38;5;28;01mTrue\u001b[39;00m\n\u001b[0;32m    322\u001b[0m     \u001b[38;5;28;01melse\u001b[39;00m:\n",
      "\u001b[1;31mKeyboardInterrupt\u001b[0m: "
     ]
    }
   ],
   "source": [
    "from get_features import get_features_mag\n",
    "X_desc_mag = get_features_mag(semiconductors,'composition')\n",
    "X_desc_mag"
   ]
  },
  {
   "cell_type": "code",
   "execution_count": null,
   "id": "76505f9d",
   "metadata": {},
   "outputs": [],
   "source": [
    "from get_features import get_features_mat\n",
    "X_desc_mat = get_features_mat(semiconductors,'composition')\n",
    "X_desc_mat"
   ]
  },
  {
   "cell_type": "code",
   "execution_count": null,
   "id": "0c223e57",
   "metadata": {},
   "outputs": [],
   "source": [
    "from get_features import get_features_deml\n",
    "X_desc_deml = get_features_deml(semiconductors,'composition')\n",
    "X_desc_deml"
   ]
  },
  {
   "cell_type": "code",
   "execution_count": null,
   "id": "7f9b96af",
   "metadata": {},
   "outputs": [],
   "source": [
    "from get_features import get_features_schol\n",
    "X_desc_schol = get_features_schol(semiconductors,'composition')\n",
    "X_desc_schol"
   ]
  },
  {
   "cell_type": "code",
   "execution_count": null,
   "id": "511fe477",
   "metadata": {},
   "outputs": [],
   "source": [
    "from get_features import get_features_megnet\n",
    "X_desc_megnet = get_features_megnet(semiconductors,'composition')\n",
    "X_desc_megnet"
   ]
  },
  {
   "cell_type": "code",
   "execution_count": null,
   "id": "6ae275de",
   "metadata": {},
   "outputs": [],
   "source": [
    "semiconductors.composition.values[0]"
   ]
  },
  {
   "cell_type": "code",
   "execution_count": null,
   "id": "ed8089f3",
   "metadata": {},
   "outputs": [],
   "source": []
  },
  {
   "cell_type": "code",
   "execution_count": null,
   "id": "03836d94",
   "metadata": {},
   "outputs": [],
   "source": [
    "\n",
    "from matminer.featurizers.composition.tests.test_ion import IonFeaturesTest\n",
    "ift = IonFeaturesTest.test_ionic(IonFeaturesTest.test_ionic)\n",
    "X_desc_ift = ift.featurize_dataframe(semiconductors, col_id='composition')\n",
    "X_desc_ift"
   ]
  },
  {
   "cell_type": "code",
   "execution_count": null,
   "id": "d33034cf",
   "metadata": {},
   "outputs": [],
   "source": [
    "filtered.structure.values[0]"
   ]
  },
  {
   "cell_type": "code",
   "execution_count": null,
   "id": "9ce005ab",
   "metadata": {},
   "outputs": [],
   "source": [
    "from matminer.featurizers.structure.bonding import BagofBonds\n",
    "from matminer.featurizers.structure.matrix import CoulombMatrix, SineCoulombMatrix, OrbitalFieldMatrix\n",
    "#bob_c=BagofBonds(coulomb_matrix=CoulombMatrix)\n",
    "bob_c=BagofBonds(semiconductors.structure.values)\n",
    "new=bob_c.fit\n",
    "new"
   ]
  },
  {
   "cell_type": "code",
   "execution_count": null,
   "id": "dea864ed",
   "metadata": {},
   "outputs": [],
   "source": [
    "from matminer.featurizers.structure.bonding import GlobalInstabilityIndex\n",
    "neww=GlobalInstabilityIndex.citations\n",
    "neww"
   ]
  },
  {
   "cell_type": "code",
   "execution_count": null,
   "id": "19237a13",
   "metadata": {},
   "outputs": [],
   "source": [
    "aaa=semiconductors.structure.values[0]"
   ]
  },
  {
   "cell_type": "code",
   "execution_count": null,
   "id": "842b3244",
   "metadata": {},
   "outputs": [],
   "source": []
  },
  {
   "cell_type": "code",
   "execution_count": null,
   "id": "0bfc481d",
   "metadata": {},
   "outputs": [],
   "source": []
  },
  {
   "cell_type": "code",
   "execution_count": null,
   "id": "e3417998",
   "metadata": {},
   "outputs": [],
   "source": []
  },
  {
   "cell_type": "code",
   "execution_count": null,
   "id": "6039ddbb",
   "metadata": {},
   "outputs": [],
   "source": []
  },
  {
   "cell_type": "code",
   "execution_count": null,
   "id": "3f712abd",
   "metadata": {},
   "outputs": [],
   "source": [
    "from pymatgen.analysis.graphs import StructureGraph\n",
    "sg = StructureGraph(filtered.structure.values[0],graph_data=None)\n",
    "sg\n",
    "#sg.draw_graph_to_file = ('graph_test.png')"
   ]
  },
  {
   "cell_type": "code",
   "execution_count": null,
   "id": "0b8cbf43",
   "metadata": {},
   "outputs": [],
   "source": [
    "def draw_graphs(structures):\n",
    "    from pymatgen.analysis.graphs import StructureGraph\n",
    "    number=0\n",
    "    for i in structures:\n",
    "        sg = StructureGraph(i)\n",
    "        draw_graph_to_file = ('graph'+str(number)+'.png')\n",
    "        number=number+1\n",
    "\n",
    "    "
   ]
  },
  {
   "cell_type": "markdown",
   "id": "7932bd94",
   "metadata": {},
   "source": [
    "# Feature importances"
   ]
  },
  {
   "cell_type": "code",
   "execution_count": null,
   "id": "f09dab70",
   "metadata": {},
   "outputs": [],
   "source": [
    "from feature_importances import feature_importances_rf_reg"
   ]
  },
  {
   "cell_type": "code",
   "execution_count": null,
   "id": "4a7e1661",
   "metadata": {
    "scrolled": false
   },
   "outputs": [],
   "source": [
    "rf_reg_formula = feature_importances_rf_reg(X_desc_form_cus.iloc[:,13:],filtered.band_gap.values,500,0.25)"
   ]
  },
  {
   "cell_type": "code",
   "execution_count": null,
   "id": "c2185f35",
   "metadata": {
    "scrolled": false
   },
   "outputs": [],
   "source": [
    "rf_reg_struc = feature_importances_reg(X_desc_struc_cus.iloc[:,13:],filtered.band_gap.values,500,0.25)"
   ]
  },
  {
   "cell_type": "markdown",
   "id": "64acc1ba",
   "metadata": {},
   "source": [
    "# Train models"
   ]
  },
  {
   "cell_type": "code",
   "execution_count": 364,
   "id": "b545974c",
   "metadata": {},
   "outputs": [
    {
     "data": {
      "text/plain": [
       "(1014, 223)"
      ]
     },
     "execution_count": 364,
     "metadata": {},
     "output_type": "execute_result"
    }
   ],
   "source": [
    "X_desc_form_cus.iloc[:,13:].values.shape"
   ]
  },
  {
   "cell_type": "code",
   "execution_count": 374,
   "id": "9eed9d03",
   "metadata": {},
   "outputs": [
    {
     "data": {
      "text/plain": [
       "-528.2949340984816"
      ]
     },
     "execution_count": 374,
     "metadata": {},
     "output_type": "execute_result"
    }
   ],
   "source": [
    "from get_models import simple_nn\n",
    "simple_nn(X_desc_form_cus.iloc[:,13:].values,semiconductors.band_gap.values)"
   ]
  },
  {
   "cell_type": "code",
   "execution_count": null,
   "id": "3dfd3988",
   "metadata": {
    "scrolled": false
   },
   "outputs": [],
   "source": []
  },
  {
   "cell_type": "code",
   "execution_count": null,
   "id": "9a26273a",
   "metadata": {},
   "outputs": [],
   "source": []
  },
  {
   "cell_type": "code",
   "execution_count": null,
   "id": "e1dda480",
   "metadata": {},
   "outputs": [],
   "source": []
  },
  {
   "cell_type": "code",
   "execution_count": null,
   "id": "2c08f2be",
   "metadata": {},
   "outputs": [],
   "source": []
  },
  {
   "cell_type": "code",
   "execution_count": null,
   "id": "3b917364",
   "metadata": {},
   "outputs": [],
   "source": []
  }
 ],
 "metadata": {
  "kernelspec": {
   "display_name": "Python 3 (ipykernel)",
   "language": "python",
   "name": "python3"
  },
  "language_info": {
   "codemirror_mode": {
    "name": "ipython",
    "version": 3
   },
   "file_extension": ".py",
   "mimetype": "text/x-python",
   "name": "python",
   "nbconvert_exporter": "python",
   "pygments_lexer": "ipython3",
   "version": "3.10.8"
  }
 },
 "nbformat": 4,
 "nbformat_minor": 5
}
