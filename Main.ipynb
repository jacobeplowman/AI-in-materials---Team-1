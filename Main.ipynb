{
 "cells": [
  {
   "cell_type": "markdown",
   "id": "e92716f6",
   "metadata": {},
   "source": [
    "# Get dataset"
   ]
  },
  {
   "cell_type": "code",
   "execution_count": 99,
   "id": "f1fbdb1f",
   "metadata": {},
   "outputs": [],
   "source": [
    "from pymatgen.ext.matproj import MPRester\n",
    "from matminer.featurizers.conversions import StrToComposition\n",
    "import scipy\n",
    "from matminer.featurizers.composition import ElementProperty, ElementFraction, Meredig, Stoichiometry\n",
    "import sklearn\n",
    "from sklearn.decomposition import PCA\n",
    "from sklearn.preprocessing import StandardScaler, normalize\n",
    "from sklearn.ensemble import RandomForestRegressor\n",
    "from sklearn.model_selection import train_test_split, cross_validate, GridSearchCV\n",
    "from sklearn.metrics import mean_squared_error as mse\n",
    "\n",
    "#from materials_project_api_key import api_key as api_key\n",
    "MP_API_KEY=\"zJTA8MUZaSc3lxtI\"\n",
    "\n",
    "import os\n",
    "import numpy as np\n",
    "import pandas as pd\n",
    "import matplotlib.pyplot as plt\n",
    "from tqdm import tqdm\n",
    "import scipy\n",
    "\n",
    "pd.set_option('display.max_columns', None)\n",
    "\n",
    "import sys\n",
    "from atomic_number import atomic_number as an"
   ]
  },
  {
   "cell_type": "code",
   "execution_count": 161,
   "id": "9c45fe8f",
   "metadata": {},
   "outputs": [
    {
     "name": "stderr",
     "output_type": "stream",
     "text": [
      "[NbConvertApp] Converting notebook Main.ipynb to script\n",
      "[NbConvertApp] Writing 6431 bytes to Main.py\n"
     ]
    }
   ],
   "source": [
    "!jupyter nbconvert --to script Main.ipynb"
   ]
  },
  {
   "cell_type": "code",
   "execution_count": 100,
   "id": "a72be7a0",
   "metadata": {},
   "outputs": [
    {
     "name": "stderr",
     "output_type": "stream",
     "text": [
      "C:\\Users\\biccy\\anaconda3\\envs\\digichem_env\\lib\\site-packages\\pymatgen\\ext\\matproj.py:182: UserWarning: You are using the legacy MPRester. This version of the MPRester will no longer be updated. To access the latest data with the new MPRester, obtain a new API key from https://materialsproject.org/api and consult the docs at https://docs.materialsproject.org/ for more information.\n",
      "  warnings.warn(\n",
      "100%|██████████| 2687/2687 [00:22<00:00, 116.93it/s]\n"
     ]
    }
   ],
   "source": [
    "properties = ['material_id',\n",
    " 'formula','spacegroup.symbol',\n",
    " 'structure',\n",
    "'decomposes_to',\n",
    "'elasticity',\n",
    " 'elements',\n",
    " 'formula_anonymous',\n",
    " 'chemsys',\n",
    "'task_ids',\n",
    " 'last_updated',\n",
    " 'created_at',\n",
    " \"band_gap\",\n",
    "'energy_per_atom',\n",
    "'formation_energy_per_atom',\n",
    "'e_above_hull',\n",
    " 'nsites',\n",
    " 'nelements',\n",
    " 'volume',\n",
    " 'density']\n",
    "\n",
    "elements = [\"Zn\"]\n",
    "data = []\n",
    "for e in elements:\n",
    "    criteria = {\"elements\": {\"$all\": [e]},'band_gap': {'$gt': 0.00}}\n",
    "    with MPRester(MP_API_KEY) as m:  \n",
    "        temp = m.query(criteria=criteria, properties=properties)\n",
    "        data.append(temp)\n",
    "data = [item for sublist in data for item in sublist]\n",
    "data = pd.DataFrame(data)"
   ]
  },
  {
   "cell_type": "code",
   "execution_count": 101,
   "id": "99940c4e",
   "metadata": {},
   "outputs": [
    {
     "name": "stderr",
     "output_type": "stream",
     "text": [
      "100%|██████████| 2687/2687 [00:00<00:00, 293599.09it/s]\n"
     ]
    },
    {
     "name": "stdout",
     "output_type": "stream",
     "text": [
      "Allowed Elements: ['As', 'Ba', 'C', 'Cu', 'F', 'Fe', 'H', 'K', 'Li', 'Mn', 'N', 'Na', 'O', 'P', 'S', 'Se', 'Si', 'Sn', 'V', 'Zn']\n",
      "Number of Elements: 20\n"
     ]
    }
   ],
   "source": [
    "# Get atom counts\n",
    "crystal_atom_counts = {}\n",
    "for row in tqdm(data.formula):\n",
    "    for key in row.keys():\n",
    "        crystal_atom_counts[key] = crystal_atom_counts[key] + 1 if key in crystal_atom_counts.keys() else 1\n",
    "crystal_atom_counts = pd.Series({ key:crystal_atom_counts[key] for key in sorted(crystal_atom_counts.keys()) })\n",
    "\n",
    "# Only choose structures with elements that are well represented in the dataset\n",
    "n_crystals_cutoff = (len(data)*0.04)\n",
    "elements = [key for key in crystal_atom_counts.keys() if crystal_atom_counts[key] >= n_crystals_cutoff]\n",
    "print(f\"Allowed Elements: {elements}\")\n",
    "print(f\"Number of Elements: {len(elements)}\")\n",
    "\n",
    "# Lets now filter the structures\n",
    "mask = [row[1].name for row in data.iterrows() if np.all(np.isin(list(row[1].formula.keys()), elements))]\n",
    "filtered = data.loc[mask]"
   ]
  },
  {
   "cell_type": "markdown",
   "id": "5ce1b0f5",
   "metadata": {},
   "source": [
    "# Featurize"
   ]
  },
  {
   "cell_type": "code",
   "execution_count": 102,
   "id": "6e3bb82d",
   "metadata": {},
   "outputs": [],
   "source": [
    "import numpy as np\n",
    "import sys"
   ]
  },
  {
   "cell_type": "code",
   "execution_count": 103,
   "id": "6c440f44",
   "metadata": {},
   "outputs": [],
   "source": [
    "from get_custom_features3 import get_custom_features as get_custom_features"
   ]
  },
  {
   "cell_type": "code",
   "execution_count": 104,
   "id": "c79affda",
   "metadata": {},
   "outputs": [],
   "source": [
    "X_desc_custom = get_custom_features(filtered.structure.values,filtered)"
   ]
  },
  {
   "cell_type": "code",
   "execution_count": 105,
   "id": "59b825a7",
   "metadata": {},
   "outputs": [],
   "source": [
    "columns=np.array(X_desc_custom.columns)\n",
    "X_desc_custom=np.array(X_desc_custom)\n",
    "X_desc_custom=pd.DataFrame(X_desc_custom)\n",
    "X_desc_custom.columns = columns"
   ]
  },
  {
   "cell_type": "code",
   "execution_count": 110,
   "id": "bca4febf",
   "metadata": {},
   "outputs": [
    {
     "name": "stdout",
     "output_type": "stream",
     "text": [
      "Requirement already satisfied: openpyxl in c:\\users\\biccy\\anaconda3\\envs\\digichem_env\\lib\\site-packages (3.0.10)\n",
      "Requirement already satisfied: et-xmlfile in c:\\users\\biccy\\anaconda3\\envs\\digichem_env\\lib\\site-packages (from openpyxl) (1.1.0)\n",
      "Note: you may need to restart the kernel to use updated packages.\n"
     ]
    }
   ],
   "source": [
    "pip install openpyxl"
   ]
  },
  {
   "cell_type": "code",
   "execution_count": 111,
   "id": "3971d76f",
   "metadata": {},
   "outputs": [],
   "source": [
    "from get_features_formula1 import get_features_formula"
   ]
  },
  {
   "cell_type": "code",
   "execution_count": 112,
   "id": "148859d8",
   "metadata": {
    "scrolled": false
   },
   "outputs": [
    {
     "name": "stderr",
     "output_type": "stream",
     "text": [
      "C:\\Users\\biccy\\AppData\\Local\\Temp\\ipykernel_4760\\4200078202.py:2: FutureWarning: In a future version of pandas all arguments of DataFrame.any and Series.any will be keyword-only.\n",
      "  X_desc_form = X_desc_form.loc[(X_desc_form!=0).any(1), (X_desc_form!=0).any(0)]\n"
     ]
    }
   ],
   "source": [
    "X_desc_form= get_features_formula(filtered.formula,filtered['spacegroup.symbol'].values)\n",
    "X_desc_form = X_desc_form.loc[(X_desc_form!=0).any(1), (X_desc_form!=0).any(0)]"
   ]
  },
  {
   "cell_type": "code",
   "execution_count": 116,
   "id": "0c075fea",
   "metadata": {},
   "outputs": [],
   "source": [
    "X_desc_form_cus=pd.concat((X_desc_custom,X_desc_form),\n",
    "    axis=1)"
   ]
  },
  {
   "cell_type": "code",
   "execution_count": null,
   "id": "d9b22abb",
   "metadata": {},
   "outputs": [],
   "source": []
  },
  {
   "cell_type": "code",
   "execution_count": 117,
   "id": "9f7ea647",
   "metadata": {},
   "outputs": [],
   "source": [
    "from get_features_structure1 import get_features_structure"
   ]
  },
  {
   "cell_type": "code",
   "execution_count": 118,
   "id": "39e5b331",
   "metadata": {},
   "outputs": [
    {
     "name": "stderr",
     "output_type": "stream",
     "text": [
      "C:\\Users\\biccy\\AppData\\Local\\Temp\\ipykernel_4760\\2836780476.py:2: FutureWarning: In a future version of pandas all arguments of DataFrame.any and Series.any will be keyword-only.\n",
      "  X_desc_struc = X_desc_struc.loc[(X_desc_struc!=0).any(1), (X_desc_struc!=0).any(0)]\n"
     ]
    }
   ],
   "source": [
    "X_desc_struc = get_features_structure(filtered.structure.values)\n",
    "X_desc_struc = X_desc_struc.loc[(X_desc_struc!=0).any(1), (X_desc_struc!=0).any(0)]"
   ]
  },
  {
   "cell_type": "code",
   "execution_count": 119,
   "id": "cc034342",
   "metadata": {},
   "outputs": [],
   "source": [
    "X_desc_struc_cus=pd.concat([X_desc_custom,X_desc_struc],axis=1)"
   ]
  },
  {
   "cell_type": "code",
   "execution_count": null,
   "id": "894bbac2",
   "metadata": {
    "scrolled": false
   },
   "outputs": [],
   "source": []
  },
  {
   "cell_type": "code",
   "execution_count": 120,
   "id": "55d6ace4",
   "metadata": {},
   "outputs": [
    {
     "data": {
      "application/vnd.jupyter.widget-view+json": {
       "model_id": "6e90153dd4174fa8b09274254e0ec678",
       "version_major": 2,
       "version_minor": 0
      },
      "text/plain": [
       "StrToComposition:   0%|          | 0/1014 [00:00<?, ?it/s]"
      ]
     },
     "metadata": {},
     "output_type": "display_data"
    },
    {
     "ename": "KeyboardInterrupt",
     "evalue": "",
     "output_type": "error",
     "traceback": [
      "\u001b[1;31m---------------------------------------------------------------------------\u001b[0m",
      "\u001b[1;31mKeyboardInterrupt\u001b[0m                         Traceback (most recent call last)",
      "Cell \u001b[1;32mIn[120], line 1\u001b[0m\n\u001b[1;32m----> 1\u001b[0m semiconductors \u001b[38;5;241m=\u001b[39m \u001b[43mStrToComposition\u001b[49m\u001b[43m(\u001b[49m\u001b[43m)\u001b[49m\u001b[38;5;241;43m.\u001b[39;49m\u001b[43mfeaturize_dataframe\u001b[49m\u001b[43m(\u001b[49m\u001b[43mfiltered\u001b[49m\u001b[43m,\u001b[49m\u001b[43m \u001b[49m\u001b[38;5;124;43m\"\u001b[39;49m\u001b[38;5;124;43mformula\u001b[39;49m\u001b[38;5;124;43m\"\u001b[39;49m\u001b[43m)\u001b[49m\n",
      "File \u001b[1;32m~\\anaconda3\\envs\\digichem_env\\lib\\site-packages\\matminer\\featurizers\\conversions.py:89\u001b[0m, in \u001b[0;36mConversionFeaturizer.featurize_dataframe\u001b[1;34m(self, df, col_id, **kwargs)\u001b[0m\n\u001b[0;32m     86\u001b[0m \u001b[38;5;28;01melif\u001b[39;00m target \u001b[38;5;129;01mis\u001b[39;00m \u001b[38;5;28;01mNone\u001b[39;00m:\n\u001b[0;32m     87\u001b[0m     \u001b[38;5;28mself\u001b[39m\u001b[38;5;241m.\u001b[39m_target_col_id \u001b[38;5;241m=\u001b[39m col_id\n\u001b[1;32m---> 89\u001b[0m \u001b[38;5;28;01mreturn\u001b[39;00m \u001b[38;5;28msuper\u001b[39m()\u001b[38;5;241m.\u001b[39mfeaturize_dataframe(df, col_id, \u001b[38;5;241m*\u001b[39m\u001b[38;5;241m*\u001b[39mkwargs)\n",
      "File \u001b[1;32m~\\anaconda3\\envs\\digichem_env\\lib\\site-packages\\matminer\\featurizers\\base.py:338\u001b[0m, in \u001b[0;36mBaseFeaturizer.featurize_dataframe\u001b[1;34m(self, df, col_id, ignore_errors, return_errors, inplace, multiindex, pbar)\u001b[0m\n\u001b[0;32m    335\u001b[0m             \u001b[38;5;28;01mraise\u001b[39;00m \u001b[38;5;167;01mValueError\u001b[39;00m(\u001b[38;5;124mf\u001b[39m\u001b[38;5;124m'\u001b[39m\u001b[38;5;124m\"\u001b[39m\u001b[38;5;132;01m{\u001b[39;00mcol\u001b[38;5;132;01m}\u001b[39;00m\u001b[38;5;124m\"\u001b[39m\u001b[38;5;124m exists in input dataframe\u001b[39m\u001b[38;5;124m'\u001b[39m)\n\u001b[0;32m    337\u001b[0m \u001b[38;5;66;03m# Compute the features\u001b[39;00m\n\u001b[1;32m--> 338\u001b[0m features \u001b[38;5;241m=\u001b[39m \u001b[38;5;28;43mself\u001b[39;49m\u001b[38;5;241;43m.\u001b[39;49m\u001b[43mfeaturize_many\u001b[49m\u001b[43m(\u001b[49m\n\u001b[0;32m    339\u001b[0m \u001b[43m    \u001b[49m\u001b[43mdf\u001b[49m\u001b[43m[\u001b[49m\u001b[43mcol_id\u001b[49m\u001b[43m]\u001b[49m\u001b[38;5;241;43m.\u001b[39;49m\u001b[43mvalues\u001b[49m\u001b[43m,\u001b[49m\n\u001b[0;32m    340\u001b[0m \u001b[43m    \u001b[49m\u001b[43mignore_errors\u001b[49m\u001b[38;5;241;43m=\u001b[39;49m\u001b[43mignore_errors\u001b[49m\u001b[43m,\u001b[49m\n\u001b[0;32m    341\u001b[0m \u001b[43m    \u001b[49m\u001b[43mreturn_errors\u001b[49m\u001b[38;5;241;43m=\u001b[39;49m\u001b[43mreturn_errors\u001b[49m\u001b[43m,\u001b[49m\n\u001b[0;32m    342\u001b[0m \u001b[43m    \u001b[49m\u001b[43mpbar\u001b[49m\u001b[38;5;241;43m=\u001b[39;49m\u001b[43mpbar\u001b[49m\u001b[43m,\u001b[49m\n\u001b[0;32m    343\u001b[0m \u001b[43m\u001b[49m\u001b[43m)\u001b[49m\n\u001b[0;32m    345\u001b[0m \u001b[38;5;66;03m# Make sure the dataframe can handle multiindices\u001b[39;00m\n\u001b[0;32m    346\u001b[0m \u001b[38;5;28;01mif\u001b[39;00m multiindex:\n",
      "File \u001b[1;32m~\\anaconda3\\envs\\digichem_env\\lib\\site-packages\\matminer\\featurizers\\base.py:470\u001b[0m, in \u001b[0;36mBaseFeaturizer.featurize_many\u001b[1;34m(self, entries, ignore_errors, return_errors, pbar)\u001b[0m\n\u001b[0;32m    464\u001b[0m \u001b[38;5;28;01mwith\u001b[39;00m Pool(\u001b[38;5;28mself\u001b[39m\u001b[38;5;241m.\u001b[39mn_jobs, maxtasksperchild\u001b[38;5;241m=\u001b[39m\u001b[38;5;241m1\u001b[39m) \u001b[38;5;28;01mas\u001b[39;00m p:\n\u001b[0;32m    465\u001b[0m     func \u001b[38;5;241m=\u001b[39m partial(\n\u001b[0;32m    466\u001b[0m         \u001b[38;5;28mself\u001b[39m\u001b[38;5;241m.\u001b[39mfeaturize_wrapper,\n\u001b[0;32m    467\u001b[0m         return_errors\u001b[38;5;241m=\u001b[39mreturn_errors,\n\u001b[0;32m    468\u001b[0m         ignore_errors\u001b[38;5;241m=\u001b[39mignore_errors,\n\u001b[0;32m    469\u001b[0m     )\n\u001b[1;32m--> 470\u001b[0m     res \u001b[38;5;241m=\u001b[39m \u001b[43mp\u001b[49m\u001b[38;5;241;43m.\u001b[39;49m\u001b[43mmap\u001b[49m\u001b[43m(\u001b[49m\u001b[43mfunc\u001b[49m\u001b[43m,\u001b[49m\u001b[43m \u001b[49m\u001b[43mentries\u001b[49m\u001b[43m,\u001b[49m\u001b[43m \u001b[49m\u001b[43mchunksize\u001b[49m\u001b[38;5;241;43m=\u001b[39;49m\u001b[38;5;28;43mself\u001b[39;49m\u001b[38;5;241;43m.\u001b[39;49m\u001b[43mchunksize\u001b[49m\u001b[43m)\u001b[49m\n\u001b[0;32m    471\u001b[0m     \u001b[38;5;28;01mreturn\u001b[39;00m res\n",
      "File \u001b[1;32m~\\anaconda3\\envs\\digichem_env\\lib\\multiprocessing\\pool.py:367\u001b[0m, in \u001b[0;36mPool.map\u001b[1;34m(self, func, iterable, chunksize)\u001b[0m\n\u001b[0;32m    362\u001b[0m \u001b[38;5;28;01mdef\u001b[39;00m \u001b[38;5;21mmap\u001b[39m(\u001b[38;5;28mself\u001b[39m, func, iterable, chunksize\u001b[38;5;241m=\u001b[39m\u001b[38;5;28;01mNone\u001b[39;00m):\n\u001b[0;32m    363\u001b[0m \u001b[38;5;250m    \u001b[39m\u001b[38;5;124;03m'''\u001b[39;00m\n\u001b[0;32m    364\u001b[0m \u001b[38;5;124;03m    Apply `func` to each element in `iterable`, collecting the results\u001b[39;00m\n\u001b[0;32m    365\u001b[0m \u001b[38;5;124;03m    in a list that is returned.\u001b[39;00m\n\u001b[0;32m    366\u001b[0m \u001b[38;5;124;03m    '''\u001b[39;00m\n\u001b[1;32m--> 367\u001b[0m     \u001b[38;5;28;01mreturn\u001b[39;00m \u001b[38;5;28;43mself\u001b[39;49m\u001b[38;5;241;43m.\u001b[39;49m\u001b[43m_map_async\u001b[49m\u001b[43m(\u001b[49m\u001b[43mfunc\u001b[49m\u001b[43m,\u001b[49m\u001b[43m \u001b[49m\u001b[43miterable\u001b[49m\u001b[43m,\u001b[49m\u001b[43m \u001b[49m\u001b[43mmapstar\u001b[49m\u001b[43m,\u001b[49m\u001b[43m \u001b[49m\u001b[43mchunksize\u001b[49m\u001b[43m)\u001b[49m\u001b[38;5;241;43m.\u001b[39;49m\u001b[43mget\u001b[49m\u001b[43m(\u001b[49m\u001b[43m)\u001b[49m\n",
      "File \u001b[1;32m~\\anaconda3\\envs\\digichem_env\\lib\\multiprocessing\\pool.py:768\u001b[0m, in \u001b[0;36mApplyResult.get\u001b[1;34m(self, timeout)\u001b[0m\n\u001b[0;32m    767\u001b[0m \u001b[38;5;28;01mdef\u001b[39;00m \u001b[38;5;21mget\u001b[39m(\u001b[38;5;28mself\u001b[39m, timeout\u001b[38;5;241m=\u001b[39m\u001b[38;5;28;01mNone\u001b[39;00m):\n\u001b[1;32m--> 768\u001b[0m     \u001b[38;5;28;43mself\u001b[39;49m\u001b[38;5;241;43m.\u001b[39;49m\u001b[43mwait\u001b[49m\u001b[43m(\u001b[49m\u001b[43mtimeout\u001b[49m\u001b[43m)\u001b[49m\n\u001b[0;32m    769\u001b[0m     \u001b[38;5;28;01mif\u001b[39;00m \u001b[38;5;129;01mnot\u001b[39;00m \u001b[38;5;28mself\u001b[39m\u001b[38;5;241m.\u001b[39mready():\n\u001b[0;32m    770\u001b[0m         \u001b[38;5;28;01mraise\u001b[39;00m \u001b[38;5;167;01mTimeoutError\u001b[39;00m\n",
      "File \u001b[1;32m~\\anaconda3\\envs\\digichem_env\\lib\\multiprocessing\\pool.py:765\u001b[0m, in \u001b[0;36mApplyResult.wait\u001b[1;34m(self, timeout)\u001b[0m\n\u001b[0;32m    764\u001b[0m \u001b[38;5;28;01mdef\u001b[39;00m \u001b[38;5;21mwait\u001b[39m(\u001b[38;5;28mself\u001b[39m, timeout\u001b[38;5;241m=\u001b[39m\u001b[38;5;28;01mNone\u001b[39;00m):\n\u001b[1;32m--> 765\u001b[0m     \u001b[38;5;28;43mself\u001b[39;49m\u001b[38;5;241;43m.\u001b[39;49m\u001b[43m_event\u001b[49m\u001b[38;5;241;43m.\u001b[39;49m\u001b[43mwait\u001b[49m\u001b[43m(\u001b[49m\u001b[43mtimeout\u001b[49m\u001b[43m)\u001b[49m\n",
      "File \u001b[1;32m~\\anaconda3\\envs\\digichem_env\\lib\\threading.py:607\u001b[0m, in \u001b[0;36mEvent.wait\u001b[1;34m(self, timeout)\u001b[0m\n\u001b[0;32m    605\u001b[0m signaled \u001b[38;5;241m=\u001b[39m \u001b[38;5;28mself\u001b[39m\u001b[38;5;241m.\u001b[39m_flag\n\u001b[0;32m    606\u001b[0m \u001b[38;5;28;01mif\u001b[39;00m \u001b[38;5;129;01mnot\u001b[39;00m signaled:\n\u001b[1;32m--> 607\u001b[0m     signaled \u001b[38;5;241m=\u001b[39m \u001b[38;5;28;43mself\u001b[39;49m\u001b[38;5;241;43m.\u001b[39;49m\u001b[43m_cond\u001b[49m\u001b[38;5;241;43m.\u001b[39;49m\u001b[43mwait\u001b[49m\u001b[43m(\u001b[49m\u001b[43mtimeout\u001b[49m\u001b[43m)\u001b[49m\n\u001b[0;32m    608\u001b[0m \u001b[38;5;28;01mreturn\u001b[39;00m signaled\n",
      "File \u001b[1;32m~\\anaconda3\\envs\\digichem_env\\lib\\threading.py:320\u001b[0m, in \u001b[0;36mCondition.wait\u001b[1;34m(self, timeout)\u001b[0m\n\u001b[0;32m    318\u001b[0m \u001b[38;5;28;01mtry\u001b[39;00m:    \u001b[38;5;66;03m# restore state no matter what (e.g., KeyboardInterrupt)\u001b[39;00m\n\u001b[0;32m    319\u001b[0m     \u001b[38;5;28;01mif\u001b[39;00m timeout \u001b[38;5;129;01mis\u001b[39;00m \u001b[38;5;28;01mNone\u001b[39;00m:\n\u001b[1;32m--> 320\u001b[0m         \u001b[43mwaiter\u001b[49m\u001b[38;5;241;43m.\u001b[39;49m\u001b[43macquire\u001b[49m\u001b[43m(\u001b[49m\u001b[43m)\u001b[49m\n\u001b[0;32m    321\u001b[0m         gotit \u001b[38;5;241m=\u001b[39m \u001b[38;5;28;01mTrue\u001b[39;00m\n\u001b[0;32m    322\u001b[0m     \u001b[38;5;28;01melse\u001b[39;00m:\n",
      "\u001b[1;31mKeyboardInterrupt\u001b[0m: "
     ]
    }
   ],
   "source": [
    "semiconductors = StrToComposition().featurize_dataframe(filtered, \"formula\")"
   ]
  },
  {
   "cell_type": "code",
   "execution_count": null,
   "id": "76505f9d",
   "metadata": {},
   "outputs": [],
   "source": [
    "ep_feat_mag = ElementProperty.from_preset(preset_name=\"magpie\")\n",
    "X_desc_mag = ep_feat_mag.featurize_dataframe(semiconductors, col_id=\"composition\")\n",
    "X_desc_mag = X_desc_mag.loc[(X_desc_mag!=0).any(1), (X_desc_mag!=0).any(0)]\n",
    "X_desc_mag = X_desc_mag.dropna(how='any',axis=1)"
   ]
  },
  {
   "cell_type": "code",
   "execution_count": null,
   "id": "ed8089f3",
   "metadata": {},
   "outputs": [],
   "source": [
    "ep_feat_mat = ElementProperty.from_preset(preset_name=\"matminer\")\n",
    "X_desc_mat = ep_feat_mat.featurize_dataframe(semiconductors, col_id=\"composition\")\n",
    "X_desc_mat = X_desc_mat.loc[(X_desc_mat!=0).any(1), (X_desc_mat!=0).any(0)]\n",
    "X_desc_mat = X_desc_mat.dropna(how='any',axis=1)"
   ]
  },
  {
   "cell_type": "code",
   "execution_count": null,
   "id": "dea864ed",
   "metadata": {},
   "outputs": [],
   "source": [
    "ep_feat_deml = ElementProperty.from_preset(preset_name=\"deml\")\n",
    "X_desc_deml = ep_feat_deml.featurize_dataframe(semiconductors, col_id=\"composition\")\n",
    "X_desc_deml = X_desc_deml.loc[(X_desc_deml!=0).any(1), (X_desc_deml!=0).any(0)]\n",
    "X_desc_deml = X_desc_deml.dropna(how='any',axis=1)"
   ]
  },
  {
   "cell_type": "code",
   "execution_count": null,
   "id": "19237a13",
   "metadata": {},
   "outputs": [],
   "source": [
    "ep_feat_deml = ElementProperty.from_preset(preset_name=\"deml\")\n",
    "X_desc_deml = ep_feat_deml.featurize_dataframe(semiconductors, col_id=\"composition\")\n",
    "X_desc_deml = X_desc_deml.loc[(X_desc_deml!=0).any(1), (X_desc_deml!=0).any(0)]\n",
    "X_desc_deml = X_desc_deml.dropna(how='any',axis=1)"
   ]
  },
  {
   "cell_type": "code",
   "execution_count": null,
   "id": "842b3244",
   "metadata": {},
   "outputs": [],
   "source": [
    "ep_feat_schol = ElementProperty.from_preset(preset_name=\"matscholar_el\")\n",
    "X_desc_schol = ep_feat_schol.featurize_dataframe(semiconductors, col_id=\"composition\")\n",
    "X_desc_schol = X_desc_schol.loc[(X_desc_schol!=0).any(1), (X_desc_schol!=0).any(0)]\n",
    "X_desc_schol = X_desc_schol.dropna(how='any',axis=1)"
   ]
  },
  {
   "cell_type": "code",
   "execution_count": null,
   "id": "0bfc481d",
   "metadata": {},
   "outputs": [],
   "source": [
    "ep_feat_megnet = ElementProperty.from_preset(preset_name=\"megnet_el\")\n",
    "X_desc_megnet = ep_feat_megnet.featurize_dataframe(semiconductors, col_id=\"composition\")\n",
    "X_desc_megnet = X_desc_megnet.loc[(X_desc_megnet!=0).any(1), (X_desc_megnet!=0).any(0)]\n",
    "X_desc_megnet = X_desc_megnet.dropna(how='any',axis=1)"
   ]
  },
  {
   "cell_type": "code",
   "execution_count": 132,
   "id": "e3417998",
   "metadata": {},
   "outputs": [
    {
     "data": {
      "text/plain": [
       "Structure Summary\n",
       "Lattice\n",
       "    abc : 3.205217815824846 3.205217815824846 5.516927\n",
       " angles : 90.0 90.0 119.99999619840808\n",
       " volume : 49.08434295009371\n",
       "      A : 1.602609 -2.7758 0.0\n",
       "      B : 1.602609 2.7758 0.0\n",
       "      C : 0.0 0.0 5.516927\n",
       "    pbc : True True True\n",
       "PeriodicSite: Zn (0.0000, 0.0000, 2.7648) [0.0000, 0.0000, 0.5011]\n",
       "PeriodicSite: Zn (0.0000, 0.0000, 0.0063) [0.0000, 0.0000, 0.0011]\n",
       "PeriodicSite: O (1.6026, -0.9253, 4.8883) [0.6667, 0.3333, 0.8861]\n",
       "PeriodicSite: O (1.6026, 0.9253, 2.1298) [0.3333, 0.6667, 0.3861]"
      ]
     },
     "execution_count": 132,
     "metadata": {},
     "output_type": "execute_result"
    }
   ],
   "source": [
    "filtered.structure.values[0]"
   ]
  },
  {
   "cell_type": "code",
   "execution_count": 154,
   "id": "d7d7ed69",
   "metadata": {},
   "outputs": [
    {
     "data": {
      "text/plain": [
       "Structure Summary\n",
       "Lattice\n",
       "    abc : 3.205217815824846 3.205217815824846 5.516927\n",
       " angles : 90.0 90.0 119.99999619840808\n",
       " volume : 49.08434295009371\n",
       "      A : 1.602609 -2.7758 0.0\n",
       "      B : 1.602609 2.7758 0.0\n",
       "      C : 0.0 0.0 5.516927\n",
       "    pbc : True True True\n",
       "PeriodicSite: Zn (0.0000, 0.0000, 2.7648) [0.0000, 0.0000, 0.5011]\n",
       "PeriodicSite: Zn (0.0000, 0.0000, 0.0063) [0.0000, 0.0000, 0.0011]\n",
       "PeriodicSite: O (1.6026, -0.9253, 4.8883) [0.6667, 0.3333, 0.8861]\n",
       "PeriodicSite: O (1.6026, 0.9253, 2.1298) [0.3333, 0.6667, 0.3861]"
      ]
     },
     "execution_count": 154,
     "metadata": {},
     "output_type": "execute_result"
    }
   ],
   "source": [
    "type(filtered.structure.values[0])\n",
    "filtered.structure.values[0]"
   ]
  },
  {
   "cell_type": "code",
   "execution_count": 158,
   "id": "3f712abd",
   "metadata": {},
   "outputs": [
    {
     "ename": "AttributeError",
     "evalue": "'NoneType' object has no attribute 'get'",
     "output_type": "error",
     "traceback": [
      "\u001b[1;31m---------------------------------------------------------------------------\u001b[0m",
      "\u001b[1;31mAttributeError\u001b[0m                            Traceback (most recent call last)",
      "Cell \u001b[1;32mIn[158], line 2\u001b[0m\n\u001b[0;32m      1\u001b[0m \u001b[38;5;28;01mfrom\u001b[39;00m \u001b[38;5;21;01mpymatgen\u001b[39;00m\u001b[38;5;21;01m.\u001b[39;00m\u001b[38;5;21;01manalysis\u001b[39;00m\u001b[38;5;21;01m.\u001b[39;00m\u001b[38;5;21;01mgraphs\u001b[39;00m \u001b[38;5;28;01mimport\u001b[39;00m StructureGraph\n\u001b[1;32m----> 2\u001b[0m sg \u001b[38;5;241m=\u001b[39m \u001b[43mStructureGraph\u001b[49m\u001b[43m(\u001b[49m\u001b[43mfiltered\u001b[49m\u001b[38;5;241;43m.\u001b[39;49m\u001b[43mstructure\u001b[49m\u001b[38;5;241;43m.\u001b[39;49m\u001b[43mvalues\u001b[49m\u001b[43m[\u001b[49m\u001b[38;5;241;43m0\u001b[39;49m\u001b[43m]\u001b[49m\u001b[43m,\u001b[49m\u001b[43mgraph_data\u001b[49m\u001b[38;5;241;43m=\u001b[39;49m\u001b[38;5;28;43;01mNone\u001b[39;49;00m\u001b[43m)\u001b[49m\n\u001b[0;32m      3\u001b[0m sg\n\u001b[0;32m      4\u001b[0m \u001b[38;5;66;03m#sg.draw_graph_to_file = ('graph_test.png')\u001b[39;00m\n",
      "File \u001b[1;32m~\\anaconda3\\envs\\digichem_env\\lib\\site-packages\\pymatgen\\analysis\\graphs.py:145\u001b[0m, in \u001b[0;36mStructureGraph.__init__\u001b[1;34m(self, structure, graph_data)\u001b[0m\n\u001b[0;32m    142\u001b[0m     graph_data \u001b[38;5;241m=\u001b[39m structure\u001b[38;5;241m.\u001b[39mas_dict()[\u001b[38;5;124m\"\u001b[39m\u001b[38;5;124mgraphs\u001b[39m\u001b[38;5;124m\"\u001b[39m]\n\u001b[0;32m    144\u001b[0m \u001b[38;5;28mself\u001b[39m\u001b[38;5;241m.\u001b[39mstructure \u001b[38;5;241m=\u001b[39m structure\n\u001b[1;32m--> 145\u001b[0m \u001b[38;5;28mself\u001b[39m\u001b[38;5;241m.\u001b[39mgraph \u001b[38;5;241m=\u001b[39m \u001b[43mnx\u001b[49m\u001b[38;5;241;43m.\u001b[39;49m\u001b[43mreadwrite\u001b[49m\u001b[38;5;241;43m.\u001b[39;49m\u001b[43mjson_graph\u001b[49m\u001b[38;5;241;43m.\u001b[39;49m\u001b[43madjacency_graph\u001b[49m\u001b[43m(\u001b[49m\u001b[43mgraph_data\u001b[49m\u001b[43m)\u001b[49m\n\u001b[0;32m    147\u001b[0m \u001b[38;5;66;03m# tidy up edge attr dicts, reading to/from json duplicates\u001b[39;00m\n\u001b[0;32m    148\u001b[0m \u001b[38;5;66;03m# information\u001b[39;00m\n\u001b[0;32m    149\u001b[0m \u001b[38;5;28;01mfor\u001b[39;00m _, _, _, d \u001b[38;5;129;01min\u001b[39;00m \u001b[38;5;28mself\u001b[39m\u001b[38;5;241m.\u001b[39mgraph\u001b[38;5;241m.\u001b[39medges(keys\u001b[38;5;241m=\u001b[39m\u001b[38;5;28;01mTrue\u001b[39;00m, data\u001b[38;5;241m=\u001b[39m\u001b[38;5;28;01mTrue\u001b[39;00m):\n",
      "File \u001b[1;32m~\\anaconda3\\envs\\digichem_env\\lib\\site-packages\\networkx\\readwrite\\json_graph\\adjacency.py:126\u001b[0m, in \u001b[0;36madjacency_graph\u001b[1;34m(data, directed, multigraph, attrs)\u001b[0m\n\u001b[0;32m     86\u001b[0m \u001b[38;5;28;01mdef\u001b[39;00m \u001b[38;5;21madjacency_graph\u001b[39m(data, directed\u001b[38;5;241m=\u001b[39m\u001b[38;5;28;01mFalse\u001b[39;00m, multigraph\u001b[38;5;241m=\u001b[39m\u001b[38;5;28;01mTrue\u001b[39;00m, attrs\u001b[38;5;241m=\u001b[39m_attrs):\n\u001b[0;32m     87\u001b[0m \u001b[38;5;250m    \u001b[39m\u001b[38;5;124;03m\"\"\"Returns graph from adjacency data format.\u001b[39;00m\n\u001b[0;32m     88\u001b[0m \n\u001b[0;32m     89\u001b[0m \u001b[38;5;124;03m    Parameters\u001b[39;00m\n\u001b[1;32m   (...)\u001b[0m\n\u001b[0;32m    124\u001b[0m \u001b[38;5;124;03m    adjacency_graph, node_link_data, tree_data\u001b[39;00m\n\u001b[0;32m    125\u001b[0m \u001b[38;5;124;03m    \"\"\"\u001b[39;00m\n\u001b[1;32m--> 126\u001b[0m     multigraph \u001b[38;5;241m=\u001b[39m \u001b[43mdata\u001b[49m\u001b[38;5;241;43m.\u001b[39;49m\u001b[43mget\u001b[49m(\u001b[38;5;124m\"\u001b[39m\u001b[38;5;124mmultigraph\u001b[39m\u001b[38;5;124m\"\u001b[39m, multigraph)\n\u001b[0;32m    127\u001b[0m     directed \u001b[38;5;241m=\u001b[39m data\u001b[38;5;241m.\u001b[39mget(\u001b[38;5;124m\"\u001b[39m\u001b[38;5;124mdirected\u001b[39m\u001b[38;5;124m\"\u001b[39m, directed)\n\u001b[0;32m    128\u001b[0m     \u001b[38;5;28;01mif\u001b[39;00m multigraph:\n",
      "\u001b[1;31mAttributeError\u001b[0m: 'NoneType' object has no attribute 'get'"
     ]
    }
   ],
   "source": [
    "from pymatgen.analysis.graphs import StructureGraph\n",
    "sg = StructureGraph(filtered.structure.values[0],graph_data=None)\n",
    "sg\n",
    "#sg.draw_graph_to_file = ('graph_test.png')"
   ]
  },
  {
   "cell_type": "code",
   "execution_count": 126,
   "id": "ba3dc1f5",
   "metadata": {},
   "outputs": [
    {
     "data": {
      "text/plain": [
       "Structure Summary\n",
       "Lattice\n",
       "    abc : 3.205217815824846 3.205217815824846 5.516927\n",
       " angles : 90.0 90.0 119.99999619840808\n",
       " volume : 49.08434295009371\n",
       "      A : 1.602609 -2.7758 0.0\n",
       "      B : 1.602609 2.7758 0.0\n",
       "      C : 0.0 0.0 5.516927\n",
       "    pbc : True True True\n",
       "PeriodicSite: Zn (0.0000, 0.0000, 2.7648) [0.0000, 0.0000, 0.5011]\n",
       "PeriodicSite: Zn (0.0000, 0.0000, 0.0063) [0.0000, 0.0000, 0.0011]\n",
       "PeriodicSite: O (1.6026, -0.9253, 4.8883) [0.6667, 0.3333, 0.8861]\n",
       "PeriodicSite: O (1.6026, 0.9253, 2.1298) [0.3333, 0.6667, 0.3861]"
      ]
     },
     "execution_count": 126,
     "metadata": {},
     "output_type": "execute_result"
    }
   ],
   "source": [
    "def draw_graphs(structures):\n",
    "    from pymatgen.analysis.graphs import StructureGraph\n",
    "    number=0\n",
    "    for i in structures:\n",
    "        sg = StructureGraph(i)\n",
    "        draw_graph_to_file = ('graph'+str(number)+'.png')\n",
    "        number=number+1\n",
    "\n",
    "    "
   ]
  },
  {
   "cell_type": "markdown",
   "id": "7932bd94",
   "metadata": {},
   "source": [
    "# Feature importances"
   ]
  },
  {
   "cell_type": "code",
   "execution_count": null,
   "id": "f09dab70",
   "metadata": {},
   "outputs": [],
   "source": [
    "from feature_importances_rf_reg import feature_importances_rf_reg"
   ]
  },
  {
   "cell_type": "code",
   "execution_count": null,
   "id": "4a7e1661",
   "metadata": {
    "scrolled": false
   },
   "outputs": [],
   "source": [
    "rf_reg_formula = feature_importances_rf_reg(X_desc_form_cus.iloc[:,13:],filtered.band_gap.values,500,0.25)"
   ]
  },
  {
   "cell_type": "code",
   "execution_count": null,
   "id": "c2185f35",
   "metadata": {
    "scrolled": false
   },
   "outputs": [],
   "source": [
    "rf_reg_struc = feature_importances_reg(X_desc_struc_cus.iloc[:,13:],filtered.band_gap.values,500,0.25)"
   ]
  },
  {
   "cell_type": "markdown",
   "id": "64acc1ba",
   "metadata": {},
   "source": [
    "# Train models"
   ]
  },
  {
   "cell_type": "code",
   "execution_count": null,
   "id": "9eed9d03",
   "metadata": {},
   "outputs": [],
   "source": []
  },
  {
   "cell_type": "code",
   "execution_count": null,
   "id": "3dfd3988",
   "metadata": {
    "scrolled": false
   },
   "outputs": [],
   "source": []
  },
  {
   "cell_type": "code",
   "execution_count": null,
   "id": "9a26273a",
   "metadata": {},
   "outputs": [],
   "source": []
  },
  {
   "cell_type": "code",
   "execution_count": null,
   "id": "e1dda480",
   "metadata": {},
   "outputs": [],
   "source": []
  },
  {
   "cell_type": "code",
   "execution_count": null,
   "id": "2c08f2be",
   "metadata": {},
   "outputs": [],
   "source": []
  },
  {
   "cell_type": "code",
   "execution_count": null,
   "id": "3b917364",
   "metadata": {},
   "outputs": [],
   "source": []
  }
 ],
 "metadata": {
  "kernelspec": {
   "display_name": "Python 3 (ipykernel)",
   "language": "python",
   "name": "python3"
  },
  "language_info": {
   "codemirror_mode": {
    "name": "ipython",
    "version": 3
   },
   "file_extension": ".py",
   "mimetype": "text/x-python",
   "name": "python",
   "nbconvert_exporter": "python",
   "pygments_lexer": "ipython3",
   "version": "3.10.8"
  }
 },
 "nbformat": 4,
 "nbformat_minor": 5
}
